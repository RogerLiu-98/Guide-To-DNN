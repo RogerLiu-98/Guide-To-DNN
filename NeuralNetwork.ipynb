{
 "cells": [
  {
   "cell_type": "markdown",
   "metadata": {
    "collapsed": true,
    "pycharm": {
     "name": "#%% md\n"
    }
   },
   "source": [
    "# A simple Neural Network implemented by Python"
   ]
  },
  {
   "cell_type": "markdown",
   "source": [
    "## Deep Neural Network"
   ],
   "metadata": {
    "collapsed": false,
    "pycharm": {
     "name": "#%% md\n"
    }
   }
  },
  {
   "cell_type": "code",
   "source": [
    "# import needed libraries\n",
    "import numpy as np\n",
    "import matplotlib.pyplot as plt"
   ],
   "metadata": {
    "collapsed": false,
    "pycharm": {
     "name": "#%%\n"
    }
   },
   "execution_count": 40,
   "outputs": []
  },
  {
   "cell_type": "markdown",
   "source": [
    "### Activation function"
   ],
   "metadata": {
    "collapsed": false,
    "pycharm": {
     "name": "#%% md\n"
    }
   }
  },
  {
   "cell_type": "code",
   "execution_count": 41,
   "outputs": [],
   "source": [
    "def sigmoid(x):\n",
    "    # Sigmoid function: f(x) = 1 / (1 + e^(-x))\n",
    "    return 1 / (1 + np.exp(-x))"
   ],
   "metadata": {
    "collapsed": false,
    "pycharm": {
     "name": "#%%\n"
    }
   }
  },
  {
   "cell_type": "markdown",
   "source": [
    "### A Neuron"
   ],
   "metadata": {
    "collapsed": false,
    "pycharm": {
     "name": "#%% md\n"
    }
   }
  },
  {
   "cell_type": "code",
   "execution_count": 42,
   "outputs": [],
   "source": [
    "class Neuron:\n",
    "\n",
    "    def __init__(self, weights, bias):\n",
    "        self.weights = weights\n",
    "        self.bias = bias\n",
    "\n",
    "    def feedforward(self, inputs):\n",
    "        # Linear combination\n",
    "        output = inputs @ self.weights + self.bias\n",
    "        return sigmoid(output)"
   ],
   "metadata": {
    "collapsed": false,
    "pycharm": {
     "name": "#%%\n"
    }
   }
  },
  {
   "cell_type": "markdown",
   "source": [
    "### A Simple Deep Neural Network with only feedforward"
   ],
   "metadata": {
    "collapsed": false,
    "pycharm": {
     "name": "#%% md\n"
    }
   }
  },
  {
   "cell_type": "code",
   "execution_count": 43,
   "outputs": [
    {
     "name": "stdout",
     "output_type": "stream",
     "text": [
      "0.7216325609518421\n"
     ]
    }
   ],
   "source": [
    "class NeuralNetwork:\n",
    "    \"\"\"\n",
    "    A neural network with 1 hidden layer\n",
    "    \"\"\"\n",
    "\n",
    "    def __init__(self):\n",
    "        weights = np.array([0, 1])\n",
    "        bias = 0\n",
    "\n",
    "        self.h1 = Neuron(weights, bias)\n",
    "        self.h2 = Neuron(weights, bias)\n",
    "        self.o1 = Neuron(weights, bias)\n",
    "\n",
    "    def feedforward(self, x):\n",
    "        # Neuron 1 in hidden layer\n",
    "        out_h1 = self.h1.feedforward(x)\n",
    "        # Neuron 2 in hidden layer\n",
    "        out_h2 = self.h2.feedforward(x)\n",
    "\n",
    "        # output layer\n",
    "        out_o1 = self.o1.feedforward(np.array([out_h1, out_h2]))\n",
    "\n",
    "        return out_o1\n",
    "\n",
    "network = NeuralNetwork()\n",
    "x = np.array([2, 3])\n",
    "print(network.feedforward(x))"
   ],
   "metadata": {
    "collapsed": false,
    "pycharm": {
     "name": "#%%\n"
    }
   }
  },
  {
   "cell_type": "markdown",
   "source": [
    "### Generate Fake data"
   ],
   "metadata": {
    "collapsed": false,
    "pycharm": {
     "name": "#%% md\n"
    }
   }
  },
  {
   "cell_type": "code",
   "execution_count": 44,
   "outputs": [
    {
     "name": "stdout",
     "output_type": "stream",
     "text": [
      "[[ -2  -1]\n",
      " [ 25   6]\n",
      " [ 17   4]\n",
      " [-15  -6]]\n",
      "[1 0 0 1]\n"
     ]
    }
   ],
   "source": [
    "fake_data = np.array([[-2, -1, 1],\n",
    "                      [25, 6, 0],\n",
    "                      [17, 4, 0],\n",
    "                      [-15, -6, 1]])\n",
    "\n",
    "X = fake_data[:, :-1]\n",
    "Y = fake_data[:, -1]\n",
    "\n",
    "print(X)\n",
    "print(Y)"
   ],
   "metadata": {
    "collapsed": false,
    "pycharm": {
     "name": "#%%\n"
    }
   }
  },
  {
   "cell_type": "markdown",
   "source": [
    "### Loss Function\n",
    "\n",
    "We use MSE to calculate the loss between prediction and ground truth.\n",
    "\n",
    "$MSE=\\frac{1}{N}||y_{true} - y_{pred}||^2=\\frac{1}{N}(y_{true}-y_{pred})^T(y_{true}-y_{pred})$\n",
    "\n",
    "We want to minimize the loss function!"
   ],
   "metadata": {
    "collapsed": false,
    "pycharm": {
     "name": "#%% md\n"
    }
   }
  },
  {
   "cell_type": "code",
   "execution_count": 45,
   "outputs": [
    {
     "name": "stdout",
     "output_type": "stream",
     "text": [
      "0.5\n"
     ]
    }
   ],
   "source": [
    "def MSE(y_true, y_pred):\n",
    "    # y_true and y_pred should be the same shape\n",
    "    return np.mean(np.power(y_true - y_pred, 2))\n",
    "\n",
    "y_true = np.array([1, 0, 0, 1])\n",
    "y_pred = np.array([0, 0, 0, 0])\n",
    "print(MSE(y_true, y_pred))"
   ],
   "metadata": {
    "collapsed": false,
    "pycharm": {
     "name": "#%%\n"
    }
   }
  },
  {
   "cell_type": "markdown",
   "source": [
    "### BackPropagation\n",
    "\n",
    "We still want to use the Gradient Descent to optimize our loss function, but the problem is,\n",
    "how to calculate the gradient?\n",
    "\n",
    "Consider that we represent the loss of the whole network as:\n",
    "$L(w_1, w_2, w_3, w_4, w_5, w_6, b_1, b_2, b_3)$. While $w_1....w_6$ are weight parameters,\n",
    "$b_1...b_3$ are bias parameters.\n",
    "\n",
    "What we want to calculate is the partial derivative of $L$ respect to $w_1....w_6$\n",
    "\n",
    "We first calculate the derivative of $L$ respect to $w_6$:\n",
    "$\\frac{\\partial L}{\\partial w_6}=\\frac{\\partial L}{\\partial y_{pred}} * \\frac{\\partial y_{pred}}{\\partial w_1}$\n",
    "\n",
    "Since we already know that:\n",
    "$L=MSE=\\frac{1}{N}||y_{true} - y_{pred}||^2=\\frac{1}{N}(y_{true}-y_{pred})^T(y_{true}-y_{pred})$\n",
    "\n",
    "We can easily calculate $\\frac{\\partial L}{\\partial y_{pred}}$:\n",
    "\n",
    "\\begin{align}\n",
    "\\frac{\\partial L}{\\partial y_{pred}}\n",
    "&=\\frac{\\partial (\\frac{1}{N}(y_{true}-y_{pred})^T(y_{true}-y_{pred}))}{\\partial y_{pred}}\\\\\n",
    "&=\\frac{1}{N}\\frac{\\partial ({y_{true}}^Ty_{true}-{y_{true}}^Ty_{pred}-{y_{pred}}^Ty_{true}+{y_{pred}}^T{y_{pred}})}{\\partial y_{pred}}\\\\\n",
    "&=-2(y_{true}-y_{pred})^T\\\\\n",
    "&=-2({y_{true}}^T-{y_{pred}}^T)\n",
    "\\end{align}\n",
    "\n",
    "Now we are going to calculate $\\frac{\\partial y_{pred}}{\\partial w_6}$, $h_1, h_2, o_1$ represent the output of their neuron respectively:\n",
    "\n",
    "$y_{pred}=o_1=f(w_5h_1 + w_6h_2 + b_3)$\n",
    "\n",
    "So we have:\n",
    "\n",
    "\\begin{align}\n",
    "\\frac{\\partial y_{pred}}{\\partial w_6}&=\\frac{\\partial f(w_5h_1 + w_6h_2 + b_3)}{\\partial w_6}\\\\\n",
    "&=h_2 * f^{'}(w_5h_1 + w_6h_2 + b_3)\n",
    "\\end{align}\n",
    "\n",
    "As we have mentioned before, the function $f$ is our activation function, while at there is sigmoid function.\n",
    "\n",
    "$f(x)=\\frac{1}{1-e^{-x}}$\n",
    "$f^{'}(x)=\\frac{e^x}{(1+e^{-x})^2}=f(x)*(1-f(x))$\n",
    "\n",
    "So that we can calculate the partial derivative:\n",
    "\n",
    "\\begin{align}\n",
    "\\frac{\\partial y_{pred}}{\\partial w_6}&=h_2*\\frac{e^{w_5h_1 + w_6h_2 + b_3}}{(1+e^{-(w_5h_1 + w_6h_2 + b_3)})^2}\n",
    "\\end{align}\n",
    "\n",
    "So finally we can calculate the derivative of $L$ respect to $w_6$\n",
    "$\\frac{\\partial L}{\\partial w_6}=\\frac{\\partial L}{\\partial y_{pred}}\\frac{\\partial y_{pred}}{\\partial w_6}$"
   ],
   "metadata": {
    "collapsed": false,
    "pycharm": {
     "name": "#%% md\n"
    }
   }
  },
  {
   "cell_type": "markdown",
   "source": [
    "### Train: Using SGD"
   ],
   "metadata": {
    "collapsed": false,
    "pycharm": {
     "name": "#%% md\n"
    }
   }
  },
  {
   "cell_type": "code",
   "execution_count": 46,
   "outputs": [
    {
     "name": "stdout",
     "output_type": "stream",
     "text": [
      "Epoch 0 loss: 0.057\n",
      "Epoch 10 loss: 0.032\n",
      "Epoch 20 loss: 0.022\n",
      "Epoch 30 loss: 0.016\n",
      "Epoch 40 loss: 0.013\n",
      "Epoch 50 loss: 0.011\n",
      "Epoch 60 loss: 0.009\n",
      "Epoch 70 loss: 0.008\n",
      "Epoch 80 loss: 0.007\n",
      "Epoch 90 loss: 0.006\n",
      "Epoch 100 loss: 0.005\n",
      "Epoch 110 loss: 0.005\n",
      "Epoch 120 loss: 0.004\n",
      "Epoch 130 loss: 0.004\n",
      "Epoch 140 loss: 0.003\n",
      "Epoch 150 loss: 0.003\n",
      "Epoch 160 loss: 0.003\n",
      "Epoch 170 loss: 0.003\n",
      "Epoch 180 loss: 0.002\n",
      "Epoch 190 loss: 0.002\n",
      "Epoch 200 loss: 0.002\n",
      "Epoch 210 loss: 0.002\n",
      "Epoch 220 loss: 0.002\n",
      "Epoch 230 loss: 0.002\n",
      "Epoch 240 loss: 0.002\n",
      "Epoch 250 loss: 0.001\n",
      "Epoch 260 loss: 0.001\n",
      "Epoch 270 loss: 0.001\n",
      "Epoch 280 loss: 0.001\n",
      "Epoch 290 loss: 0.001\n",
      "Epoch 300 loss: 0.001\n",
      "Epoch 310 loss: 0.001\n",
      "Epoch 320 loss: 0.001\n",
      "Epoch 330 loss: 0.001\n",
      "Epoch 340 loss: 0.001\n",
      "Epoch 350 loss: 0.001\n",
      "Epoch 360 loss: 0.001\n",
      "Epoch 370 loss: 0.001\n",
      "Epoch 380 loss: 0.001\n",
      "Epoch 390 loss: 0.001\n",
      "Epoch 400 loss: 0.001\n",
      "Epoch 410 loss: 0.001\n",
      "Epoch 420 loss: 0.001\n",
      "Epoch 430 loss: 0.001\n",
      "Epoch 440 loss: 0.001\n",
      "Epoch 450 loss: 0.001\n",
      "Epoch 460 loss: 0.001\n",
      "Epoch 470 loss: 0.000\n",
      "Epoch 480 loss: 0.000\n",
      "Epoch 490 loss: 0.000\n",
      "Epoch 500 loss: 0.000\n",
      "Epoch 510 loss: 0.000\n",
      "Epoch 520 loss: 0.000\n",
      "Epoch 530 loss: 0.000\n",
      "Epoch 540 loss: 0.000\n",
      "Epoch 550 loss: 0.000\n",
      "Epoch 560 loss: 0.000\n",
      "Epoch 570 loss: 0.000\n",
      "Epoch 580 loss: 0.000\n",
      "Epoch 590 loss: 0.000\n",
      "Epoch 600 loss: 0.000\n",
      "Epoch 610 loss: 0.000\n",
      "Epoch 620 loss: 0.000\n",
      "Epoch 630 loss: 0.000\n",
      "Epoch 640 loss: 0.000\n",
      "Epoch 650 loss: 0.000\n",
      "Epoch 660 loss: 0.000\n",
      "Epoch 670 loss: 0.000\n",
      "Epoch 680 loss: 0.000\n",
      "Epoch 690 loss: 0.000\n",
      "Epoch 700 loss: 0.000\n",
      "Epoch 710 loss: 0.000\n",
      "Epoch 720 loss: 0.000\n",
      "Epoch 730 loss: 0.000\n",
      "Epoch 740 loss: 0.000\n",
      "Epoch 750 loss: 0.000\n",
      "Epoch 760 loss: 0.000\n",
      "Epoch 770 loss: 0.000\n",
      "Epoch 780 loss: 0.000\n",
      "Epoch 790 loss: 0.000\n",
      "Epoch 800 loss: 0.000\n",
      "Epoch 810 loss: 0.000\n",
      "Epoch 820 loss: 0.000\n",
      "Epoch 830 loss: 0.000\n",
      "Epoch 840 loss: 0.000\n",
      "Epoch 850 loss: 0.000\n",
      "Epoch 860 loss: 0.000\n",
      "Epoch 870 loss: 0.000\n",
      "Epoch 880 loss: 0.000\n",
      "Epoch 890 loss: 0.000\n",
      "Epoch 900 loss: 0.000\n",
      "Epoch 910 loss: 0.000\n",
      "Epoch 920 loss: 0.000\n",
      "Epoch 930 loss: 0.000\n",
      "Epoch 940 loss: 0.000\n",
      "Epoch 950 loss: 0.000\n",
      "Epoch 960 loss: 0.000\n",
      "Epoch 970 loss: 0.000\n",
      "Epoch 980 loss: 0.000\n",
      "Epoch 990 loss: 0.000\n"
     ]
    },
    {
     "name": "stderr",
     "output_type": "stream",
     "text": [
      "/home/roger/miniconda3/envs/NeuralNetwork/lib/python3.7/site-packages/ipykernel_launcher.py:3: RuntimeWarning: overflow encountered in exp\n",
      "  This is separate from the ipykernel package so we can avoid doing imports until\n"
     ]
    }
   ],
   "source": [
    "def derive_sigmoid(x):\n",
    "    fx = sigmoid(x)\n",
    "    return fx * (1 - fx)  # The derivative of sigmoid function f(x) * (1 - f(x))\n",
    "\n",
    "class OurNeuralNetwork:\n",
    "    \"\"\"\n",
    "    The structure of the network is a one hidden layer with two neurons network\n",
    "\n",
    "    DO NOT USE IT IN REAL LIFE PROBLEM!\n",
    "    JUST USE IT TO UNDERSTAND HOW DNN WORKS!\n",
    "    \"\"\"\n",
    "\n",
    "    def __init__(self):\n",
    "        # Randomly initialize weights\n",
    "        self.w1 = np.random.normal()\n",
    "        self.w2 = np.random.normal()\n",
    "        self.w3 = np.random.normal()\n",
    "        self.w4 = np.random.normal()\n",
    "        self.w5 = np.random.normal()\n",
    "        self.w6 = np.random.normal()\n",
    "        \n",
    "        # Randomly initialize biases\n",
    "        self.b1 = np.random.normal()\n",
    "        self.b2 = np.random.normal()\n",
    "        self.b3 = np.random.normal()\n",
    "\n",
    "    def feedforward(self, x):\n",
    "        h1 = sigmoid(self.w1 * x[0] + self.w2 * x[1] + self.b1)\n",
    "        h2 = sigmoid(self.w3 * x[0] + self.w4 * x[1] + self.b2)\n",
    "        o1 = sigmoid(self.w5 * h1 + self.w6 * h2 + self.b3)\n",
    "        return h1, h2, o1\n",
    "\n",
    "    def train(self, train_x, train_y):\n",
    "        \"\"\"\n",
    "        :param train_x: a Nx2 numpy array, N is the number of sample\n",
    "        :param train_y: a Nx1 numpy array, N is the number of sample\n",
    "        :return:\n",
    "        \"\"\"\n",
    "        lr = 0.1\n",
    "        epochs = 1000\n",
    "\n",
    "        losses = []\n",
    "\n",
    "        for epoch in range(epochs):\n",
    "            for x, y in zip(train_x, train_y):\n",
    "                h1, h2, o1 = self.feedforward(x)\n",
    "\n",
    "                # Calculate derivative\n",
    "                d_L_ypred = -2 * (y - o1)  # partial L / partial y_pred\n",
    "\n",
    "                d_ypred_w6 = h2 * derive_sigmoid(o1)\n",
    "                d_ypred_w5 = h1 * derive_sigmoid(o1)\n",
    "                d_ypred_b3 = derive_sigmoid(o1)\n",
    "                \n",
    "                d_ypred_h1 = self.w5 * derive_sigmoid(o1)\n",
    "                d_ypred_h2 = self.w6 * derive_sigmoid(o1)\n",
    "\n",
    "                d_h1_w1 = x[0] * derive_sigmoid(h1)\n",
    "                d_h1_w2 = x[1] * derive_sigmoid(h1)\n",
    "                d_h1_b1 = derive_sigmoid(h1)\n",
    "\n",
    "                d_h2_w3 = x[0] * derive_sigmoid(h2)\n",
    "                d_h2_w4 = x[1] * derive_sigmoid(h2)\n",
    "                d_h2_b2 = derive_sigmoid(h2)\n",
    "\n",
    "                # Update weights and biases\n",
    "                # Neuron h1\n",
    "                self.w1 -= lr * d_L_ypred * d_ypred_h1 * d_h1_w1\n",
    "                self.w2 -= lr * d_L_ypred * d_ypred_h1 * d_h1_w2\n",
    "                self.b1 -= lr * d_L_ypred * d_ypred_h1 * d_h1_b1\n",
    "\n",
    "                self.w3 -= lr * d_L_ypred * d_ypred_h2 * d_h2_w3\n",
    "                self.w4 -= lr * d_L_ypred * d_ypred_h2 * d_h2_w4\n",
    "                self.b2 -= lr * d_L_ypred * d_ypred_h2 * d_h2_b2\n",
    "\n",
    "                self.w5 -= lr * d_L_ypred * d_ypred_w5\n",
    "                self.w6 -= lr * d_L_ypred * d_ypred_w6\n",
    "                self.b3 -= lr * d_L_ypred * d_ypred_b3\n",
    "\n",
    "            # Calculate the Loss\n",
    "            if epoch % 10 == 0:\n",
    "                y_preds = np.apply_along_axis(self.feedforward, 1, X)[:, -1]\n",
    "                loss = MSE(Y, y_preds)\n",
    "                losses.append(loss)\n",
    "                print(\"Epoch %d loss: %.3f\" % (epoch, loss))\n",
    "        return losses\n",
    "\n",
    "n = OurNeuralNetwork()\n",
    "losses = n.train(X, Y)"
   ],
   "metadata": {
    "collapsed": false,
    "pycharm": {
     "name": "#%%\n"
    }
   }
  },
  {
   "cell_type": "markdown",
   "source": [
    "### Plot loss curve"
   ],
   "metadata": {
    "collapsed": false,
    "pycharm": {
     "name": "#%% md\n"
    }
   }
  },
  {
   "cell_type": "code",
   "execution_count": 48,
   "outputs": [
    {
     "data": {
      "text/plain": "<Figure size 432x288 with 1 Axes>",
      "image/png": "[encoded data removed]"
     },
     "metadata": {
      "needs_background": "light"
     },
     "output_type": "display_data"
    }
   ],
   "source": [
    "plt.title('Loss Curve')\n",
    "plt.plot(losses)\n",
    "plt.show()"
   ],
   "metadata": {
    "collapsed": false,
    "pycharm": {
     "name": "#%%\n"
    }
   }
  }
 ],
 "metadata": {
  "kernelspec": {
   "display_name": "Python 3",
   "language": "python",
   "name": "python3"
  },
  "language_info": {
   "codemirror_mode": {
    "name": "ipython",
    "version": 2
   },
   "file_extension": ".py",
   "mimetype": "text/x-python",
   "name": "python",
   "nbconvert_exporter": "python",
   "pygments_lexer": "ipython2",
   "version": "2.7.6"
  }
 },
 "nbformat": 4,
 "nbformat_minor": 0
}